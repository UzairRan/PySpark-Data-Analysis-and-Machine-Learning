{
 "cells": [
  {
   "cell_type": "markdown",
   "id": "6e83e7f9",
   "metadata": {
    "_cell_guid": "b1076dfc-b9ad-4769-8c92-a6c4dae69d19",
    "_uuid": "8f2839f25d086af736a60e9eeb907d3b93b6e0e5",
    "papermill": {
     "duration": 0.00998,
     "end_time": "2024-07-25T19:52:41.647609",
     "exception": false,
     "start_time": "2024-07-25T19:52:41.637629",
     "status": "completed"
    },
    "tags": []
   },
   "source": [
    "# Part I: Dataset1"
   ]
  },
  {
   "cell_type": "markdown",
   "id": "b5d0f516",
   "metadata": {
    "papermill": {
     "duration": 0.009994,
     "end_time": "2024-07-25T19:52:41.667261",
     "exception": false,
     "start_time": "2024-07-25T19:52:41.657267",
     "status": "completed"
    },
    "tags": []
   },
   "source": [
    "**1.Load the data file into a Spark DataFrame (1st DataFrame) and describe its structure**"
   ]
  },
  {
   "cell_type": "code",
   "execution_count": 1,
   "id": "e1175239",
   "metadata": {
    "execution": {
     "iopub.execute_input": "2024-07-25T19:52:41.688955Z",
     "iopub.status.busy": "2024-07-25T19:52:41.688447Z",
     "iopub.status.idle": "2024-07-25T19:53:38.170837Z",
     "shell.execute_reply": "2024-07-25T19:53:38.169313Z"
    },
    "papermill": {
     "duration": 56.496375,
     "end_time": "2024-07-25T19:53:38.173714",
     "exception": false,
     "start_time": "2024-07-25T19:52:41.677339",
     "status": "completed"
    },
    "tags": []
   },
   "outputs": [
    {
     "name": "stdout",
     "output_type": "stream",
     "text": [
      "Collecting pyspark\r\n",
      "  Downloading pyspark-3.5.1.tar.gz (317.0 MB)\r\n",
      "\u001b[2K     \u001b[90m━━━━━━━━━━━━━━━━━━━━━━━━━━━━━━━━━━━━━━━\u001b[0m \u001b[32m317.0/317.0 MB\u001b[0m \u001b[31m4.4 MB/s\u001b[0m eta \u001b[36m0:00:00\u001b[0m\r\n",
      "\u001b[?25h  Preparing metadata (setup.py) ... \u001b[?25l-\b \b\\\b \bdone\r\n",
      "\u001b[?25hRequirement already satisfied: py4j==0.10.9.7 in /opt/conda/lib/python3.10/site-packages (from pyspark) (0.10.9.7)\r\n",
      "Building wheels for collected packages: pyspark\r\n",
      "  Building wheel for pyspark (setup.py) ... \u001b[?25l-\b \b\\\b \b|\b \bdone\r\n",
      "\u001b[?25h  Created wheel for pyspark: filename=pyspark-3.5.1-py2.py3-none-any.whl size=317488493 sha256=f1e1767c9453a74a8cf392600ca9c3c678a414af691977beb6f49298a5110e62\r\n",
      "  Stored in directory: /root/.cache/pip/wheels/80/1d/60/2c256ed38dddce2fdd93be545214a63e02fbd8d74fb0b7f3a6\r\n",
      "Successfully built pyspark\r\n",
      "Installing collected packages: pyspark\r\n",
      "Successfully installed pyspark-3.5.1\r\n"
     ]
    }
   ],
   "source": [
    "# Install PySpark\n",
    "!pip install pyspark\n"
   ]
  },
  {
   "cell_type": "code",
   "execution_count": 2,
   "id": "a326a803",
   "metadata": {
    "execution": {
     "iopub.execute_input": "2024-07-25T19:53:38.219489Z",
     "iopub.status.busy": "2024-07-25T19:53:38.218591Z",
     "iopub.status.idle": "2024-07-25T19:53:38.322777Z",
     "shell.execute_reply": "2024-07-25T19:53:38.321719Z"
    },
    "papermill": {
     "duration": 0.131038,
     "end_time": "2024-07-25T19:53:38.325614",
     "exception": false,
     "start_time": "2024-07-25T19:53:38.194576",
     "status": "completed"
    },
    "tags": []
   },
   "outputs": [],
   "source": [
    "# Import necessary libraries\n",
    "from pyspark.sql import SparkSession\n",
    "from pyspark.sql.functions import col"
   ]
  },
  {
   "cell_type": "code",
   "execution_count": 3,
   "id": "7b8d8f04",
   "metadata": {
    "execution": {
     "iopub.execute_input": "2024-07-25T19:53:38.369291Z",
     "iopub.status.busy": "2024-07-25T19:53:38.368710Z",
     "iopub.status.idle": "2024-07-25T19:53:44.840880Z",
     "shell.execute_reply": "2024-07-25T19:53:44.839498Z"
    },
    "papermill": {
     "duration": 6.497349,
     "end_time": "2024-07-25T19:53:44.844199",
     "exception": false,
     "start_time": "2024-07-25T19:53:38.346850",
     "status": "completed"
    },
    "tags": []
   },
   "outputs": [
    {
     "name": "stderr",
     "output_type": "stream",
     "text": [
      "Setting default log level to \"WARN\".\n",
      "To adjust logging level use sc.setLogLevel(newLevel). For SparkR, use setLogLevel(newLevel).\n",
      "24/07/25 19:53:42 WARN NativeCodeLoader: Unable to load native-hadoop library for your platform... using builtin-java classes where applicable\n"
     ]
    }
   ],
   "source": [
    "# Initialize Spark session\n",
    "spark = SparkSession.builder.appName(\"BigDataAnalytics\").getOrCreate()"
   ]
  },
  {
   "cell_type": "code",
   "execution_count": 4,
   "id": "4c712fa0",
   "metadata": {
    "execution": {
     "iopub.execute_input": "2024-07-25T19:53:44.888508Z",
     "iopub.status.busy": "2024-07-25T19:53:44.888086Z",
     "iopub.status.idle": "2024-07-25T19:53:52.973544Z",
     "shell.execute_reply": "2024-07-25T19:53:52.972472Z"
    },
    "papermill": {
     "duration": 8.111209,
     "end_time": "2024-07-25T19:53:52.976788",
     "exception": false,
     "start_time": "2024-07-25T19:53:44.865579",
     "status": "completed"
    },
    "tags": []
   },
   "outputs": [],
   "source": [
    "# Load the CSV file into a Spark DataFrame\n",
    "df1 = spark.read.csv(\"/kaggle/input/dataset1-csv/dataset1.csv\", header=True, inferSchema=True)\n"
   ]
  },
  {
   "cell_type": "code",
   "execution_count": 5,
   "id": "05bd50c1",
   "metadata": {
    "execution": {
     "iopub.execute_input": "2024-07-25T19:53:53.027856Z",
     "iopub.status.busy": "2024-07-25T19:53:53.026561Z",
     "iopub.status.idle": "2024-07-25T19:53:53.620578Z",
     "shell.execute_reply": "2024-07-25T19:53:53.618888Z"
    },
    "papermill": {
     "duration": 0.624253,
     "end_time": "2024-07-25T19:53:53.623353",
     "exception": false,
     "start_time": "2024-07-25T19:53:52.999100",
     "status": "completed"
    },
    "tags": []
   },
   "outputs": [
    {
     "name": "stdout",
     "output_type": "stream",
     "text": [
      "root\n",
      " |-- X1: integer (nullable = true)\n",
      " |-- X2: double (nullable = true)\n",
      " |-- X3: string (nullable = true)\n",
      " |-- X4: integer (nullable = true)\n",
      " |-- X5: string (nullable = true)\n",
      " |-- X6: integer (nullable = true)\n",
      " |-- X7: integer (nullable = true)\n",
      " |-- X8: string (nullable = true)\n",
      " |-- X9: double (nullable = true)\n",
      " |-- Y1: integer (nullable = true)\n",
      "\n",
      "+---+------+----+---+---+---+---+---+----+---+\n",
      "| X1|    X2|  X3| X4| X5| X6| X7| X8|  X9| Y1|\n",
      "+---+------+----+---+---+---+---+---+----+---+\n",
      "| 59|28.378|0.34|204|196|132| 49| 92| 7.7|  1|\n",
      "| 59|24.968|   1|147|181|129| 34| 96|4.09|  1|\n",
      "| 48|31.307|0.62|155|185|127| 41|139| 4.5|  1|\n",
      "| 47|27.837|0.38|488|254|158| 55|250| 5.3|  2|\n",
      "| 55|22.662|0.49| 87|175|120| 44| 99| 6.9|  1|\n",
      "+---+------+----+---+---+---+---+---+----+---+\n",
      "only showing top 5 rows\n",
      "\n"
     ]
    }
   ],
   "source": [
    "#  structure of the DataFrame\n",
    "df1.printSchema()\n",
    "df1.show(5)\n"
   ]
  },
  {
   "cell_type": "code",
   "execution_count": 6,
   "id": "aee43a35",
   "metadata": {
    "execution": {
     "iopub.execute_input": "2024-07-25T19:53:53.668353Z",
     "iopub.status.busy": "2024-07-25T19:53:53.667961Z",
     "iopub.status.idle": "2024-07-25T19:53:54.540368Z",
     "shell.execute_reply": "2024-07-25T19:53:54.538979Z"
    },
    "papermill": {
     "duration": 0.898186,
     "end_time": "2024-07-25T19:53:54.543799",
     "exception": false,
     "start_time": "2024-07-25T19:53:53.645613",
     "status": "completed"
    },
    "tags": []
   },
   "outputs": [
    {
     "name": "stdout",
     "output_type": "stream",
     "text": [
      "Number of rows: 6967\n",
      "Number of columns: 10\n"
     ]
    }
   ],
   "source": [
    "# Number of rows and columns\n",
    "print(f\"Number of rows: {df1.count()}\")\n",
    "print(f\"Number of columns: {len(df1.columns)}\")"
   ]
  },
  {
   "cell_type": "markdown",
   "id": "f9bdadb3",
   "metadata": {
    "papermill": {
     "duration": 0.022904,
     "end_time": "2024-07-25T19:53:54.597042",
     "exception": false,
     "start_time": "2024-07-25T19:53:54.574138",
     "status": "completed"
    },
    "tags": []
   },
   "source": [
    "**2. Create a new DataFrame (2nd DataFrame) by removing all rows with null/missing values and calculate the number of rows removed**"
   ]
  },
  {
   "cell_type": "code",
   "execution_count": 7,
   "id": "2922ede5",
   "metadata": {
    "execution": {
     "iopub.execute_input": "2024-07-25T19:53:54.642138Z",
     "iopub.status.busy": "2024-07-25T19:53:54.641592Z",
     "iopub.status.idle": "2024-07-25T19:53:54.674167Z",
     "shell.execute_reply": "2024-07-25T19:53:54.672701Z"
    },
    "papermill": {
     "duration": 0.059176,
     "end_time": "2024-07-25T19:53:54.677570",
     "exception": false,
     "start_time": "2024-07-25T19:53:54.618394",
     "status": "completed"
    },
    "tags": []
   },
   "outputs": [],
   "source": [
    "# Remove rows with null values\n",
    "df2 = df1.dropna()\n",
    "\n"
   ]
  },
  {
   "cell_type": "code",
   "execution_count": 8,
   "id": "30d6657a",
   "metadata": {
    "execution": {
     "iopub.execute_input": "2024-07-25T19:53:54.729381Z",
     "iopub.status.busy": "2024-07-25T19:53:54.728842Z",
     "iopub.status.idle": "2024-07-25T19:53:55.452496Z",
     "shell.execute_reply": "2024-07-25T19:53:55.451358Z"
    },
    "papermill": {
     "duration": 0.750656,
     "end_time": "2024-07-25T19:53:55.455676",
     "exception": false,
     "start_time": "2024-07-25T19:53:54.705020",
     "status": "completed"
    },
    "tags": []
   },
   "outputs": [
    {
     "name": "stdout",
     "output_type": "stream",
     "text": [
      "Number of rows removed: 0\n"
     ]
    }
   ],
   "source": [
    "# Calculate the number of rows removed\n",
    "rows_removed = df1.count() - df2.count()\n",
    "\n",
    "print(f\"Number of rows removed: {rows_removed}\")\n"
   ]
  },
  {
   "cell_type": "markdown",
   "id": "da759948",
   "metadata": {
    "papermill": {
     "duration": 0.029866,
     "end_time": "2024-07-25T19:53:55.515295",
     "exception": false,
     "start_time": "2024-07-25T19:53:55.485429",
     "status": "completed"
    },
    "tags": []
   },
   "source": [
    "**3. Calculate summary statistics of the ‘X1’ feature, generate a histogram, and describe the distribution**"
   ]
  },
  {
   "cell_type": "code",
   "execution_count": 9,
   "id": "47c573d8",
   "metadata": {
    "execution": {
     "iopub.execute_input": "2024-07-25T19:53:55.577583Z",
     "iopub.status.busy": "2024-07-25T19:53:55.577185Z",
     "iopub.status.idle": "2024-07-25T19:53:58.795704Z",
     "shell.execute_reply": "2024-07-25T19:53:58.794522Z"
    },
    "papermill": {
     "duration": 3.252934,
     "end_time": "2024-07-25T19:53:58.798191",
     "exception": false,
     "start_time": "2024-07-25T19:53:55.545257",
     "status": "completed"
    },
    "tags": []
   },
   "outputs": [
    {
     "name": "stdout",
     "output_type": "stream",
     "text": [
      "+-------+-----------------+\n",
      "|summary|               X1|\n",
      "+-------+-----------------+\n",
      "|  count|             6967|\n",
      "|   mean|53.33156308310607|\n",
      "| stddev|8.715031757570447|\n",
      "|    min|               21|\n",
      "|    max|               90|\n",
      "+-------+-----------------+\n",
      "\n"
     ]
    },
    {
     "data": {
      "image/png": "[encoded data removed]",
      "text/plain": [
       "<Figure size 640x480 with 1 Axes>"
      ]
     },
     "metadata": {},
     "output_type": "display_data"
    }
   ],
   "source": [
    "# Calculate summary statistics for X1\n",
    "summary_stats = df2.describe(\"X1\").show()\n",
    "\n",
    "# Convert to Pandas for plotting\n",
    "import matplotlib.pyplot as plt\n",
    "\n",
    "x1_pd = df2.select(\"X1\").toPandas()\n",
    "x1_pd.hist(column='X1', bins=50)\n",
    "plt.xlabel(\"X1\")\n",
    "plt.ylabel(\"Frequency\")\n",
    "plt.title(\"Histogram of X1\")\n",
    "plt.show()\n",
    "\n"
   ]
  },
  {
   "cell_type": "code",
   "execution_count": 10,
   "id": "024df681",
   "metadata": {
    "execution": {
     "iopub.execute_input": "2024-07-25T19:53:58.843797Z",
     "iopub.status.busy": "2024-07-25T19:53:58.843236Z",
     "iopub.status.idle": "2024-07-25T19:54:00.601426Z",
     "shell.execute_reply": "2024-07-25T19:54:00.600307Z"
    },
    "papermill": {
     "duration": 1.784214,
     "end_time": "2024-07-25T19:54:00.604494",
     "exception": false,
     "start_time": "2024-07-25T19:53:58.820280",
     "status": "completed"
    },
    "tags": []
   },
   "outputs": [
    {
     "name": "stdout",
     "output_type": "stream",
     "text": [
      "Mean: 53.33156308310607, Std Dev: 8.715031757570447, Variance: 75.95177853546144, Median: 53.0\n"
     ]
    }
   ],
   "source": [
    "# Additional statistics\n",
    "from pyspark.sql.functions import mean, stddev, variance, expr\n",
    "\n",
    "mean_val = df2.select(mean(\"X1\")).collect()[0][0]\n",
    "stddev_val = df2.select(stddev(\"X1\")).collect()[0][0]\n",
    "variance_val = df2.select(variance(\"X1\")).collect()[0][0]\n",
    "median_val = df2.approxQuantile(\"X1\", [0.5], 0.0)[0]\n",
    "\n",
    "print(f\"Mean: {mean_val}, Std Dev: {stddev_val}, Variance: {variance_val}, Median: {median_val}\")\n"
   ]
  },
  {
   "cell_type": "markdown",
   "id": "38c22be6",
   "metadata": {
    "papermill": {
     "duration": 0.026832,
     "end_time": "2024-07-25T19:54:00.661317",
     "exception": false,
     "start_time": "2024-07-25T19:54:00.634485",
     "status": "completed"
    },
    "tags": []
   },
   "source": [
    "**4. Display the quartile info of the ‘X2’ feature and generate a boxplot**"
   ]
  },
  {
   "cell_type": "code",
   "execution_count": 11,
   "id": "03ed6f7a",
   "metadata": {
    "execution": {
     "iopub.execute_input": "2024-07-25T19:54:00.706407Z",
     "iopub.status.busy": "2024-07-25T19:54:00.705261Z",
     "iopub.status.idle": "2024-07-25T19:54:01.725038Z",
     "shell.execute_reply": "2024-07-25T19:54:01.723897Z"
    },
    "papermill": {
     "duration": 1.045619,
     "end_time": "2024-07-25T19:54:01.727997",
     "exception": false,
     "start_time": "2024-07-25T19:54:00.682378",
     "status": "completed"
    },
    "tags": []
   },
   "outputs": [
    {
     "name": "stdout",
     "output_type": "stream",
     "text": [
      "25th percentile: 22.976, 50th percentile (median): 24.697, 75th percentile: 26.435\n"
     ]
    },
    {
     "data": {
      "image/png": "[encoded data removed]",
      "text/plain": [
       "<Figure size 640x480 with 1 Axes>"
      ]
     },
     "metadata": {},
     "output_type": "display_data"
    }
   ],
   "source": [
    "\n",
    "\n",
    "# Display quartile info\n",
    "quantiles = df2.approxQuantile(\"X2\", [0.25, 0.5, 0.75], 0.0)\n",
    "print(f\"25th percentile: {quantiles[0]}, 50th percentile (median): {quantiles[1]}, 75th percentile: {quantiles[2]}\")\n",
    "\n",
    "# Convert to Pandas for plotting\n",
    "x2_pd = df2.select(\"X2\").toPandas()\n",
    "x2_pd.boxplot(column='X2')\n",
    "plt.ylabel(\"X2\")\n",
    "plt.title(\"Boxplot of X2\")\n",
    "plt.show()\n"
   ]
  },
  {
   "cell_type": "markdown",
   "id": "c99ac9a1",
   "metadata": {
    "papermill": {
     "duration": 0.032398,
     "end_time": "2024-07-25T19:54:01.791982",
     "exception": false,
     "start_time": "2024-07-25T19:54:01.759584",
     "status": "completed"
    },
    "tags": []
   },
   "source": [
    "\n",
    "**5. Count the number of rows where ‘X1’ is greater than 50 and ‘Y1’ equals 1**"
   ]
  },
  {
   "cell_type": "code",
   "execution_count": 12,
   "id": "f5a792cc",
   "metadata": {
    "execution": {
     "iopub.execute_input": "2024-07-25T19:54:01.841492Z",
     "iopub.status.busy": "2024-07-25T19:54:01.841091Z",
     "iopub.status.idle": "2024-07-25T19:54:02.219671Z",
     "shell.execute_reply": "2024-07-25T19:54:02.218564Z"
    },
    "papermill": {
     "duration": 0.405298,
     "end_time": "2024-07-25T19:54:02.223060",
     "exception": false,
     "start_time": "2024-07-25T19:54:01.817762",
     "status": "completed"
    },
    "tags": []
   },
   "outputs": [
    {
     "name": "stdout",
     "output_type": "stream",
     "text": [
      "Number of rows where X1 > 50 and Y1 == 1: 2182\n"
     ]
    }
   ],
   "source": [
    "# Count the rows meeting the criteria\n",
    "count_rows = df2.filter((col(\"X1\") > 50) & (col(\"Y1\") == 1)).count()\n",
    "print(f\"Number of rows where X1 > 50 and Y1 == 1: {count_rows}\")\n"
   ]
  },
  {
   "cell_type": "markdown",
   "id": "5fdd9278",
   "metadata": {
    "papermill": {
     "duration": 0.021655,
     "end_time": "2024-07-25T19:54:02.267847",
     "exception": false,
     "start_time": "2024-07-25T19:54:02.246192",
     "status": "completed"
    },
    "tags": []
   },
   "source": [
    "**7. Build two classification models using ‘Y1’ as the target label and evaluate their performance**"
   ]
  },
  {
   "cell_type": "code",
   "execution_count": 13,
   "id": "5ee446fd",
   "metadata": {
    "execution": {
     "iopub.execute_input": "2024-07-25T19:54:02.314040Z",
     "iopub.status.busy": "2024-07-25T19:54:02.313479Z",
     "iopub.status.idle": "2024-07-25T19:54:02.773864Z",
     "shell.execute_reply": "2024-07-25T19:54:02.772582Z"
    },
    "papermill": {
     "duration": 0.486987,
     "end_time": "2024-07-25T19:54:02.776887",
     "exception": false,
     "start_time": "2024-07-25T19:54:02.289900",
     "status": "completed"
    },
    "tags": []
   },
   "outputs": [],
   "source": [
    "# Import necessary libraries for machine learning\n",
    "from pyspark.ml.feature import VectorAssembler, StringIndexer\n",
    "from pyspark.ml.classification import LogisticRegression, RandomForestClassifier\n",
    "from pyspark.ml.evaluation import MulticlassClassificationEvaluator"
   ]
  },
  {
   "cell_type": "code",
   "execution_count": 14,
   "id": "6df0a9f3",
   "metadata": {
    "execution": {
     "iopub.execute_input": "2024-07-25T19:54:02.825654Z",
     "iopub.status.busy": "2024-07-25T19:54:02.825234Z",
     "iopub.status.idle": "2024-07-25T19:54:04.559094Z",
     "shell.execute_reply": "2024-07-25T19:54:04.557835Z"
    },
    "papermill": {
     "duration": 1.762547,
     "end_time": "2024-07-25T19:54:04.562470",
     "exception": false,
     "start_time": "2024-07-25T19:54:02.799923",
     "status": "completed"
    },
    "tags": []
   },
   "outputs": [],
   "source": [
    "# Encode string columns\n",
    "indexers = [StringIndexer(inputCol=column, outputCol=column+\"_index\").fit(df2) for column in [\"X3\", \"X5\", \"X8\"]]\n",
    "for indexer in indexers:\n",
    "    df2 = indexer.transform(df2)"
   ]
  },
  {
   "cell_type": "code",
   "execution_count": 15,
   "id": "6bcf0a79",
   "metadata": {
    "execution": {
     "iopub.execute_input": "2024-07-25T19:54:04.633892Z",
     "iopub.status.busy": "2024-07-25T19:54:04.633322Z",
     "iopub.status.idle": "2024-07-25T19:54:04.804205Z",
     "shell.execute_reply": "2024-07-25T19:54:04.803030Z"
    },
    "papermill": {
     "duration": 0.210649,
     "end_time": "2024-07-25T19:54:04.807870",
     "exception": false,
     "start_time": "2024-07-25T19:54:04.597221",
     "status": "completed"
    },
    "tags": []
   },
   "outputs": [],
   "source": [
    "# Prepare the data for modeling\n",
    "feature_columns = [col for col in df2.columns if col != \"Y1\" and col not in [\"X3\", \"X5\", \"X8\"]]\n",
    "feature_columns += [\"X3_index\", \"X5_index\", \"X8_index\"]\n",
    "\n",
    "assembler = VectorAssembler(inputCols=feature_columns, outputCol=\"features\")\n",
    "df2_features = assembler.transform(df2)\n"
   ]
  },
  {
   "cell_type": "code",
   "execution_count": 16,
   "id": "b771bde4",
   "metadata": {
    "execution": {
     "iopub.execute_input": "2024-07-25T19:54:04.932931Z",
     "iopub.status.busy": "2024-07-25T19:54:04.932487Z",
     "iopub.status.idle": "2024-07-25T19:54:04.960511Z",
     "shell.execute_reply": "2024-07-25T19:54:04.959027Z"
    },
    "papermill": {
     "duration": 0.124834,
     "end_time": "2024-07-25T19:54:04.963825",
     "exception": false,
     "start_time": "2024-07-25T19:54:04.838991",
     "status": "completed"
    },
    "tags": []
   },
   "outputs": [],
   "source": [
    "# Split the data into training and test sets\n",
    "train_df, test_df = df2_features.randomSplit([0.7, 0.3], seed=42)"
   ]
  },
  {
   "cell_type": "code",
   "execution_count": 17,
   "id": "f1b9dfef",
   "metadata": {
    "execution": {
     "iopub.execute_input": "2024-07-25T19:54:05.018972Z",
     "iopub.status.busy": "2024-07-25T19:54:05.018534Z",
     "iopub.status.idle": "2024-07-25T19:54:13.404873Z",
     "shell.execute_reply": "2024-07-25T19:54:13.403462Z"
    },
    "papermill": {
     "duration": 8.414676,
     "end_time": "2024-07-25T19:54:13.408065",
     "exception": false,
     "start_time": "2024-07-25T19:54:04.993389",
     "status": "completed"
    },
    "tags": []
   },
   "outputs": [
    {
     "name": "stderr",
     "output_type": "stream",
     "text": [
      "24/07/25 19:54:09 WARN InstanceBuilder: Failed to load implementation from:dev.ludovic.netlib.blas.JNIBLAS\n"
     ]
    }
   ],
   "source": [
    "# Train Logistic Regression model\n",
    "lr = LogisticRegression(labelCol=\"Y1\", featuresCol=\"features\")\n",
    "lr_model = lr.fit(train_df)"
   ]
  },
  {
   "cell_type": "code",
   "execution_count": 18,
   "id": "a4f6537a",
   "metadata": {
    "execution": {
     "iopub.execute_input": "2024-07-25T19:54:13.476959Z",
     "iopub.status.busy": "2024-07-25T19:54:13.476406Z",
     "iopub.status.idle": "2024-07-25T19:54:24.406560Z",
     "shell.execute_reply": "2024-07-25T19:54:24.405292Z"
    },
    "papermill": {
     "duration": 10.970247,
     "end_time": "2024-07-25T19:54:24.409398",
     "exception": false,
     "start_time": "2024-07-25T19:54:13.439151",
     "status": "completed"
    },
    "tags": []
   },
   "outputs": [
    {
     "name": "stderr",
     "output_type": "stream",
     "text": [
      "24/07/25 19:54:21 WARN DAGScheduler: Broadcasting large task binary with size 1627.5 KiB\n",
      "                                                                                \r"
     ]
    }
   ],
   "source": [
    "# Train Random Forest model with increased maxBins\n",
    "rf = RandomForestClassifier(labelCol=\"Y1\", featuresCol=\"features\", numTrees=100, maxBins=250)\n",
    "rf_model = rf.fit(train_df)\n"
   ]
  },
  {
   "cell_type": "code",
   "execution_count": 19,
   "id": "89ab69a0",
   "metadata": {
    "execution": {
     "iopub.execute_input": "2024-07-25T19:54:24.459073Z",
     "iopub.status.busy": "2024-07-25T19:54:24.458561Z",
     "iopub.status.idle": "2024-07-25T19:54:24.475931Z",
     "shell.execute_reply": "2024-07-25T19:54:24.474684Z"
    },
    "papermill": {
     "duration": 0.045137,
     "end_time": "2024-07-25T19:54:24.478663",
     "exception": false,
     "start_time": "2024-07-25T19:54:24.433526",
     "status": "completed"
    },
    "tags": []
   },
   "outputs": [],
   "source": [
    "# Evaluate the models\n",
    "evaluator = MulticlassClassificationEvaluator(labelCol=\"Y1\", metricName=\"accuracy\")\n"
   ]
  },
  {
   "cell_type": "code",
   "execution_count": 20,
   "id": "e4a1492c",
   "metadata": {
    "execution": {
     "iopub.execute_input": "2024-07-25T19:54:24.528073Z",
     "iopub.status.busy": "2024-07-25T19:54:24.527493Z",
     "iopub.status.idle": "2024-07-25T19:54:25.196090Z",
     "shell.execute_reply": "2024-07-25T19:54:25.194869Z"
    },
    "papermill": {
     "duration": 0.697506,
     "end_time": "2024-07-25T19:54:25.199753",
     "exception": false,
     "start_time": "2024-07-25T19:54:24.502247",
     "status": "completed"
    },
    "tags": []
   },
   "outputs": [
    {
     "name": "stdout",
     "output_type": "stream",
     "text": [
      "Logistic Regression Accuracy: 0.6231738035264484\n"
     ]
    }
   ],
   "source": [
    "# Logistic Regression evaluation\n",
    "lr_predictions = lr_model.transform(test_df)\n",
    "lr_accuracy = evaluator.evaluate(lr_predictions)\n",
    "print(f\"Logistic Regression Accuracy: {lr_accuracy}\")\n"
   ]
  },
  {
   "cell_type": "code",
   "execution_count": 21,
   "id": "0f68838e",
   "metadata": {
    "execution": {
     "iopub.execute_input": "2024-07-25T19:54:25.268771Z",
     "iopub.status.busy": "2024-07-25T19:54:25.268397Z",
     "iopub.status.idle": "2024-07-25T19:54:26.101172Z",
     "shell.execute_reply": "2024-07-25T19:54:26.099975Z"
    },
    "papermill": {
     "duration": 0.871131,
     "end_time": "2024-07-25T19:54:26.104298",
     "exception": false,
     "start_time": "2024-07-25T19:54:25.233167",
     "status": "completed"
    },
    "tags": []
   },
   "outputs": [
    {
     "name": "stderr",
     "output_type": "stream",
     "text": [
      "24/07/25 19:54:25 WARN DAGScheduler: Broadcasting large task binary with size 1783.3 KiB\n"
     ]
    },
    {
     "name": "stdout",
     "output_type": "stream",
     "text": [
      "Random Forest Accuracy: 0.6080604534005037\n"
     ]
    }
   ],
   "source": [
    "# Random Forest evaluation\n",
    "rf_predictions = rf_model.transform(test_df)\n",
    "rf_accuracy = evaluator.evaluate(rf_predictions)\n",
    "print(f\"Random Forest Accuracy: {rf_accuracy}\")"
   ]
  },
  {
   "cell_type": "code",
   "execution_count": null,
   "id": "b84e7ece",
   "metadata": {
    "papermill": {
     "duration": 0.027753,
     "end_time": "2024-07-25T19:54:26.167177",
     "exception": false,
     "start_time": "2024-07-25T19:54:26.139424",
     "status": "completed"
    },
    "tags": []
   },
   "outputs": [],
   "source": []
  },
  {
   "cell_type": "code",
   "execution_count": null,
   "id": "9657e402",
   "metadata": {
    "papermill": {
     "duration": 0.022635,
     "end_time": "2024-07-25T19:54:26.213166",
     "exception": false,
     "start_time": "2024-07-25T19:54:26.190531",
     "status": "completed"
    },
    "tags": []
   },
   "outputs": [],
   "source": []
  }
 ],
 "metadata": {
  "kaggle": {
   "accelerator": "none",
   "dataSources": [
    {
     "datasetId": 5446211,
     "sourceId": 9035063,
     "sourceType": "datasetVersion"
    },
    {
     "datasetId": 5446213,
     "sourceId": 9035065,
     "sourceType": "datasetVersion"
    }
   ],
   "dockerImageVersionId": 30746,
   "isGpuEnabled": false,
   "isInternetEnabled": true,
   "language": "python",
   "sourceType": "notebook"
  },
  "kernelspec": {
   "display_name": "Python 3",
   "language": "python",
   "name": "python3"
  },
  "language_info": {
   "codemirror_mode": {
    "name": "ipython",
    "version": 3
   },
   "file_extension": ".py",
   "mimetype": "text/x-python",
   "name": "python",
   "nbconvert_exporter": "python",
   "pygments_lexer": "ipython3",
   "version": "3.10.13"
  },
  "papermill": {
   "default_parameters": {},
   "duration": 110.613592,
   "end_time": "2024-07-25T19:54:28.858883",
   "environment_variables": {},
   "exception": null,
   "input_path": "__notebook__.ipynb",
   "output_path": "__notebook__.ipynb",
   "parameters": {},
   "start_time": "2024-07-25T19:52:38.245291",
   "version": "2.5.0"
  }
 },
 "nbformat": 4,
 "nbformat_minor": 5
}
