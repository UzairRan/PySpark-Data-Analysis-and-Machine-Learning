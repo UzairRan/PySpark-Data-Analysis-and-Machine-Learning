{
 "cells": [
  {
   "cell_type": "markdown",
   "id": "9bf50e5a",
   "metadata": {
    "_cell_guid": "b1076dfc-b9ad-4769-8c92-a6c4dae69d19",
    "_uuid": "8f2839f25d086af736a60e9eeb907d3b93b6e0e5",
    "papermill": {
     "duration": 0.006372,
     "end_time": "2024-07-25T20:07:17.801546",
     "exception": false,
     "start_time": "2024-07-25T20:07:17.795174",
     "status": "completed"
    },
    "tags": []
   },
   "source": [
    "# Part II: Dataset2"
   ]
  },
  {
   "cell_type": "markdown",
   "id": "d176ab2e",
   "metadata": {
    "papermill": {
     "duration": 0.005435,
     "end_time": "2024-07-25T20:07:17.812800",
     "exception": false,
     "start_time": "2024-07-25T20:07:17.807365",
     "status": "completed"
    },
    "tags": []
   },
   "source": [
    "**1. Load the data file into a Spark DataFrame (1st DataFrame) and describe its structure**"
   ]
  },
  {
   "cell_type": "code",
   "execution_count": 1,
   "id": "7a821f0f",
   "metadata": {
    "execution": {
     "iopub.execute_input": "2024-07-25T20:07:17.826079Z",
     "iopub.status.busy": "2024-07-25T20:07:17.825695Z",
     "iopub.status.idle": "2024-07-25T20:08:07.469401Z",
     "shell.execute_reply": "2024-07-25T20:08:07.468179Z"
    },
    "papermill": {
     "duration": 49.653405,
     "end_time": "2024-07-25T20:08:07.472211",
     "exception": false,
     "start_time": "2024-07-25T20:07:17.818806",
     "status": "completed"
    },
    "tags": []
   },
   "outputs": [
    {
     "name": "stdout",
     "output_type": "stream",
     "text": [
      "Collecting pyspark\r\n",
      "  Downloading pyspark-3.5.1.tar.gz (317.0 MB)\r\n",
      "\u001b[2K     \u001b[90m━━━━━━━━━━━━━━━━━━━━━━━━━━━━━━━━━━━━━━━\u001b[0m \u001b[32m317.0/317.0 MB\u001b[0m \u001b[31m4.9 MB/s\u001b[0m eta \u001b[36m0:00:00\u001b[0m\r\n",
      "\u001b[?25h  Preparing metadata (setup.py) ... \u001b[?25l-\b \b\\\b \bdone\r\n",
      "\u001b[?25hRequirement already satisfied: py4j==0.10.9.7 in /opt/conda/lib/python3.10/site-packages (from pyspark) (0.10.9.7)\r\n",
      "Building wheels for collected packages: pyspark\r\n",
      "  Building wheel for pyspark (setup.py) ... \u001b[?25l-\b \b\\\b \b|\b \bdone\r\n",
      "\u001b[?25h  Created wheel for pyspark: filename=pyspark-3.5.1-py2.py3-none-any.whl size=317488493 sha256=a3b00f9a89d4cb4dc53cb810906ba818a175d4c0e9e4f7340e10394f7a5a2548\r\n",
      "  Stored in directory: /root/.cache/pip/wheels/80/1d/60/2c256ed38dddce2fdd93be545214a63e02fbd8d74fb0b7f3a6\r\n",
      "Successfully built pyspark\r\n",
      "Installing collected packages: pyspark\r\n",
      "Successfully installed pyspark-3.5.1\r\n"
     ]
    }
   ],
   "source": [
    "# Install PySpark\n",
    "!pip install pyspark"
   ]
  },
  {
   "cell_type": "code",
   "execution_count": 2,
   "id": "b61e5566",
   "metadata": {
    "execution": {
     "iopub.execute_input": "2024-07-25T20:08:07.499832Z",
     "iopub.status.busy": "2024-07-25T20:08:07.498814Z",
     "iopub.status.idle": "2024-07-25T20:08:07.583497Z",
     "shell.execute_reply": "2024-07-25T20:08:07.582520Z"
    },
    "papermill": {
     "duration": 0.101239,
     "end_time": "2024-07-25T20:08:07.586196",
     "exception": false,
     "start_time": "2024-07-25T20:08:07.484957",
     "status": "completed"
    },
    "tags": []
   },
   "outputs": [],
   "source": [
    "# Import necessary libraries\n",
    "from pyspark.sql import SparkSession\n",
    "from pyspark.sql.functions import col\n",
    "import matplotlib.pyplot as plt"
   ]
  },
  {
   "cell_type": "code",
   "execution_count": 3,
   "id": "97f8661c",
   "metadata": {
    "execution": {
     "iopub.execute_input": "2024-07-25T20:08:07.614228Z",
     "iopub.status.busy": "2024-07-25T20:08:07.613616Z",
     "iopub.status.idle": "2024-07-25T20:08:12.749542Z",
     "shell.execute_reply": "2024-07-25T20:08:12.748367Z"
    },
    "papermill": {
     "duration": 5.152693,
     "end_time": "2024-07-25T20:08:12.752368",
     "exception": false,
     "start_time": "2024-07-25T20:08:07.599675",
     "status": "completed"
    },
    "tags": []
   },
   "outputs": [
    {
     "name": "stderr",
     "output_type": "stream",
     "text": [
      "Setting default log level to \"WARN\".\n",
      "To adjust logging level use sc.setLogLevel(newLevel). For SparkR, use setLogLevel(newLevel).\n",
      "24/07/25 20:08:10 WARN NativeCodeLoader: Unable to load native-hadoop library for your platform... using builtin-java classes where applicable\n"
     ]
    }
   ],
   "source": [
    "# Initialize Spark session\n",
    "spark = SparkSession.builder.appName(\"BigDataAnalytics\").getOrCreate()"
   ]
  },
  {
   "cell_type": "code",
   "execution_count": 4,
   "id": "ffca73fd",
   "metadata": {
    "execution": {
     "iopub.execute_input": "2024-07-25T20:08:12.783581Z",
     "iopub.status.busy": "2024-07-25T20:08:12.783198Z",
     "iopub.status.idle": "2024-07-25T20:08:19.675112Z",
     "shell.execute_reply": "2024-07-25T20:08:19.673978Z"
    },
    "papermill": {
     "duration": 6.909925,
     "end_time": "2024-07-25T20:08:19.678455",
     "exception": false,
     "start_time": "2024-07-25T20:08:12.768530",
     "status": "completed"
    },
    "tags": []
   },
   "outputs": [
    {
     "name": "stderr",
     "output_type": "stream",
     "text": [
      "                                                                                \r"
     ]
    }
   ],
   "source": [
    "# Load the CSV file into a Spark DataFrame\n",
    "df3 = spark.read.csv(\"/kaggle/input/dataset2/dataset2.csv\", header=True, inferSchema=True)\n",
    "\n"
   ]
  },
  {
   "cell_type": "code",
   "execution_count": 5,
   "id": "7f152294",
   "metadata": {
    "execution": {
     "iopub.execute_input": "2024-07-25T20:08:19.714257Z",
     "iopub.status.busy": "2024-07-25T20:08:19.713217Z",
     "iopub.status.idle": "2024-07-25T20:08:19.721569Z",
     "shell.execute_reply": "2024-07-25T20:08:19.720609Z"
    },
    "papermill": {
     "duration": 0.025484,
     "end_time": "2024-07-25T20:08:19.723974",
     "exception": false,
     "start_time": "2024-07-25T20:08:19.698490",
     "status": "completed"
    },
    "tags": []
   },
   "outputs": [
    {
     "name": "stdout",
     "output_type": "stream",
     "text": [
      "root\n",
      " |-- X1: integer (nullable = true)\n",
      " |-- X2: double (nullable = true)\n",
      " |-- X3: double (nullable = true)\n",
      " |-- X4: double (nullable = true)\n",
      " |-- X5: double (nullable = true)\n",
      " |-- X6: integer (nullable = true)\n",
      " |-- X7: double (nullable = true)\n",
      " |-- X8: double (nullable = true)\n",
      " |-- X9: double (nullable = true)\n",
      " |-- X10: string (nullable = true)\n",
      "\n"
     ]
    }
   ],
   "source": [
    "# Describe the structure of the DataFrame\n",
    "df3.printSchema()\n",
    "\n",
    "\n"
   ]
  },
  {
   "cell_type": "code",
   "execution_count": 6,
   "id": "27f7160b",
   "metadata": {
    "execution": {
     "iopub.execute_input": "2024-07-25T20:08:19.755947Z",
     "iopub.status.busy": "2024-07-25T20:08:19.754931Z",
     "iopub.status.idle": "2024-07-25T20:08:20.237030Z",
     "shell.execute_reply": "2024-07-25T20:08:20.235175Z"
    },
    "papermill": {
     "duration": 0.498865,
     "end_time": "2024-07-25T20:08:20.239672",
     "exception": false,
     "start_time": "2024-07-25T20:08:19.740807",
     "status": "completed"
    },
    "tags": []
   },
   "outputs": [
    {
     "name": "stdout",
     "output_type": "stream",
     "text": [
      "+--------+----+---+------------------+--------+-----+--------+----+-----+--------------------+\n",
      "|      X1|  X2| X3|                X4|      X5|   X6|      X7|  X8|   X9|                 X10|\n",
      "+--------+----+---+------------------+--------+-----+--------+----+-----+--------------------+\n",
      "|34811059|2.73|0.1| 3.328944661018629| 24.5962|12314|129.9049|75.3| 29.5|Middle East & Nor...|\n",
      "|19842251|6.43|2.0|1.4743533878509398|22.25083| 7103|130.1247|58.3|192.0|  Sub-Saharan Africa|\n",
      "|40381860|2.24|0.5|       4.785169983| 27.5017|14646|118.8915|75.5| 15.4|             America|\n",
      "| 2975029| 1.4|0.1|       1.804106217|25.35542| 7383|132.8108|72.5| 20.0|Europe & Central ...|\n",
      "|21370348|1.96|0.1|       18.01631327|27.56373|41312|117.3755|81.5|  5.2| East Asia & Pacific|\n",
      "+--------+----+---+------------------+--------+-----+--------+----+-----+--------------------+\n",
      "only showing top 5 rows\n",
      "\n"
     ]
    }
   ],
   "source": [
    "df3.show(5)"
   ]
  },
  {
   "cell_type": "code",
   "execution_count": 7,
   "id": "b2376bed",
   "metadata": {
    "execution": {
     "iopub.execute_input": "2024-07-25T20:08:20.282552Z",
     "iopub.status.busy": "2024-07-25T20:08:20.281162Z",
     "iopub.status.idle": "2024-07-25T20:08:20.970085Z",
     "shell.execute_reply": "2024-07-25T20:08:20.968981Z"
    },
    "papermill": {
     "duration": 0.713302,
     "end_time": "2024-07-25T20:08:20.973069",
     "exception": false,
     "start_time": "2024-07-25T20:08:20.259767",
     "status": "completed"
    },
    "tags": []
   },
   "outputs": [
    {
     "name": "stdout",
     "output_type": "stream",
     "text": [
      "Number of rows: 139\n",
      "Number of columns: 10\n"
     ]
    }
   ],
   "source": [
    "# Number of rows and columns\n",
    "print(f\"Number of rows: {df3.count()}\")\n",
    "print(f\"Number of columns: {len(df3.columns)}\")"
   ]
  },
  {
   "cell_type": "markdown",
   "id": "420499c6",
   "metadata": {
    "papermill": {
     "duration": 0.02147,
     "end_time": "2024-07-25T20:08:21.015634",
     "exception": false,
     "start_time": "2024-07-25T20:08:20.994164",
     "status": "completed"
    },
    "tags": []
   },
   "source": [
    "**2. Create a new DataFrame (2nd DataFrame) by removing the ‘X10’ column**"
   ]
  },
  {
   "cell_type": "code",
   "execution_count": 8,
   "id": "7470683a",
   "metadata": {
    "execution": {
     "iopub.execute_input": "2024-07-25T20:08:21.059952Z",
     "iopub.status.busy": "2024-07-25T20:08:21.059428Z",
     "iopub.status.idle": "2024-07-25T20:08:21.081470Z",
     "shell.execute_reply": "2024-07-25T20:08:21.080203Z"
    },
    "papermill": {
     "duration": 0.048178,
     "end_time": "2024-07-25T20:08:21.084788",
     "exception": false,
     "start_time": "2024-07-25T20:08:21.036610",
     "status": "completed"
    },
    "tags": []
   },
   "outputs": [],
   "source": [
    "# Remove the X10 column\n",
    "df4 = df3.drop(\"X10\")\n",
    "\n"
   ]
  },
  {
   "cell_type": "code",
   "execution_count": 9,
   "id": "1c2cbaa8",
   "metadata": {
    "execution": {
     "iopub.execute_input": "2024-07-25T20:08:21.127229Z",
     "iopub.status.busy": "2024-07-25T20:08:21.126717Z",
     "iopub.status.idle": "2024-07-25T20:08:21.431211Z",
     "shell.execute_reply": "2024-07-25T20:08:21.429966Z"
    },
    "papermill": {
     "duration": 0.329034,
     "end_time": "2024-07-25T20:08:21.434225",
     "exception": false,
     "start_time": "2024-07-25T20:08:21.105191",
     "status": "completed"
    },
    "tags": []
   },
   "outputs": [
    {
     "name": "stdout",
     "output_type": "stream",
     "text": [
      "+--------+----+---+------------------+--------+-----+--------+----+-----+\n",
      "|      X1|  X2| X3|                X4|      X5|   X6|      X7|  X8|   X9|\n",
      "+--------+----+---+------------------+--------+-----+--------+----+-----+\n",
      "|34811059|2.73|0.1| 3.328944661018629| 24.5962|12314|129.9049|75.3| 29.5|\n",
      "|19842251|6.43|2.0|1.4743533878509398|22.25083| 7103|130.1247|58.3|192.0|\n",
      "|40381860|2.24|0.5|       4.785169983| 27.5017|14646|118.8915|75.5| 15.4|\n",
      "| 2975029| 1.4|0.1|       1.804106217|25.35542| 7383|132.8108|72.5| 20.0|\n",
      "|21370348|1.96|0.1|       18.01631327|27.56373|41312|117.3755|81.5|  5.2|\n",
      "+--------+----+---+------------------+--------+-----+--------+----+-----+\n",
      "only showing top 5 rows\n",
      "\n"
     ]
    }
   ],
   "source": [
    "df4.show(5)"
   ]
  },
  {
   "cell_type": "markdown",
   "id": "548e3a27",
   "metadata": {
    "papermill": {
     "duration": 0.019969,
     "end_time": "2024-07-25T20:08:21.475095",
     "exception": false,
     "start_time": "2024-07-25T20:08:21.455126",
     "status": "completed"
    },
    "tags": []
   },
   "source": [
    "**3. Explore and describe the relationship between ‘X2’ and ‘X8’**"
   ]
  },
  {
   "cell_type": "code",
   "execution_count": 10,
   "id": "e5a4552a",
   "metadata": {
    "execution": {
     "iopub.execute_input": "2024-07-25T20:08:21.507997Z",
     "iopub.status.busy": "2024-07-25T20:08:21.506714Z",
     "iopub.status.idle": "2024-07-25T20:08:22.983577Z",
     "shell.execute_reply": "2024-07-25T20:08:22.982419Z"
    },
    "papermill": {
     "duration": 1.49419,
     "end_time": "2024-07-25T20:08:22.986001",
     "exception": false,
     "start_time": "2024-07-25T20:08:21.491811",
     "status": "completed"
    },
    "tags": []
   },
   "outputs": [
    {
     "data": {
      "image/png": "[encoded data removed]",
      "text/plain": [
       "<Figure size 640x480 with 1 Axes>"
      ]
     },
     "metadata": {},
     "output_type": "display_data"
    }
   ],
   "source": [
    "# Convert to Pandas for plotting\n",
    "x2_x8_pd = df4.select(\"X2\", \"X8\").toPandas()\n",
    "\n",
    "# Scatter plot\n",
    "plt.scatter(x2_x8_pd[\"X2\"], x2_x8_pd[\"X8\"])\n",
    "plt.xlabel(\"X2\")\n",
    "plt.ylabel(\"X8\")\n",
    "plt.title(\"Scatter plot of X2 vs X8\")\n",
    "plt.show()\n"
   ]
  },
  {
   "cell_type": "markdown",
   "id": "31599124",
   "metadata": {
    "papermill": {
     "duration": 0.013309,
     "end_time": "2024-07-25T20:08:23.012991",
     "exception": false,
     "start_time": "2024-07-25T20:08:22.999682",
     "status": "completed"
    },
    "tags": []
   },
   "source": [
    "**4. Use Spark SQL query to display the ‘X2’ and ‘X8’ columns where ‘X2’ is greater than 1.0 and ‘X8’ is greater than 70**"
   ]
  },
  {
   "cell_type": "code",
   "execution_count": 11,
   "id": "cc5ba154",
   "metadata": {
    "execution": {
     "iopub.execute_input": "2024-07-25T20:08:23.042430Z",
     "iopub.status.busy": "2024-07-25T20:08:23.041773Z",
     "iopub.status.idle": "2024-07-25T20:08:23.703923Z",
     "shell.execute_reply": "2024-07-25T20:08:23.702427Z"
    },
    "papermill": {
     "duration": 0.680623,
     "end_time": "2024-07-25T20:08:23.707318",
     "exception": false,
     "start_time": "2024-07-25T20:08:23.026695",
     "status": "completed"
    },
    "tags": []
   },
   "outputs": [
    {
     "name": "stdout",
     "output_type": "stream",
     "text": [
      "+----+----+\n",
      "|  X2|  X8|\n",
      "+----+----+\n",
      "|2.73|75.3|\n",
      "|2.24|75.5|\n",
      "| 1.4|72.5|\n",
      "|1.96|81.5|\n",
      "|1.41|80.4|\n",
      "|1.99|70.6|\n",
      "|1.89|72.2|\n",
      "|1.83|75.3|\n",
      "|1.42|70.1|\n",
      "|1.82|79.4|\n",
      "|2.91|70.7|\n",
      "|3.48|70.9|\n",
      "| 1.9|73.9|\n",
      "|1.43|73.2|\n",
      "|1.68|80.7|\n",
      "|1.89|78.9|\n",
      "|2.43|75.1|\n",
      "|1.91|79.7|\n",
      "|1.43|76.5|\n",
      "| 1.5|77.8|\n",
      "+----+----+\n",
      "only showing top 20 rows\n",
      "\n"
     ]
    }
   ],
   "source": [
    "# Create a temporary view for Spark SQL\n",
    "df4.createOrReplaceTempView(\"data_table\")\n",
    "\n",
    "# Query\n",
    "query = \"SELECT X2, X8 FROM data_table WHERE X2 > 1.0 AND X8 > 70\"\n",
    "result = spark.sql(query)\n",
    "result.show()\n"
   ]
  },
  {
   "cell_type": "markdown",
   "id": "a9561c75",
   "metadata": {
    "papermill": {
     "duration": 0.021604,
     "end_time": "2024-07-25T20:08:23.751271",
     "exception": false,
     "start_time": "2024-07-25T20:08:23.729667",
     "status": "completed"
    },
    "tags": []
   },
   "source": [
    "**5. Build a linear regression model to predict the ‘X8’ column using ‘X2’ as the predictor and evaluate its performance**"
   ]
  },
  {
   "cell_type": "code",
   "execution_count": 12,
   "id": "5fba1813",
   "metadata": {
    "execution": {
     "iopub.execute_input": "2024-07-25T20:08:23.797652Z",
     "iopub.status.busy": "2024-07-25T20:08:23.796717Z",
     "iopub.status.idle": "2024-07-25T20:08:24.159551Z",
     "shell.execute_reply": "2024-07-25T20:08:24.158287Z"
    },
    "papermill": {
     "duration": 0.388781,
     "end_time": "2024-07-25T20:08:24.162520",
     "exception": false,
     "start_time": "2024-07-25T20:08:23.773739",
     "status": "completed"
    },
    "tags": []
   },
   "outputs": [],
   "source": [
    "from pyspark.ml.feature import VectorAssembler, StringIndexer\n",
    "from pyspark.ml.evaluation import MulticlassClassificationEvaluator\n",
    "from pyspark.ml.regression import LinearRegression\n",
    "from pyspark.ml.evaluation import RegressionEvaluator\n",
    "from pyspark.ml.regression import LinearRegression"
   ]
  },
  {
   "cell_type": "code",
   "execution_count": 13,
   "id": "1fa12202",
   "metadata": {
    "execution": {
     "iopub.execute_input": "2024-07-25T20:08:24.192041Z",
     "iopub.status.busy": "2024-07-25T20:08:24.191601Z",
     "iopub.status.idle": "2024-07-25T20:08:24.386566Z",
     "shell.execute_reply": "2024-07-25T20:08:24.385189Z"
    },
    "papermill": {
     "duration": 0.212715,
     "end_time": "2024-07-25T20:08:24.389274",
     "exception": false,
     "start_time": "2024-07-25T20:08:24.176559",
     "status": "completed"
    },
    "tags": []
   },
   "outputs": [],
   "source": [
    "# Prepare the data for modeling\n",
    "assembler = VectorAssembler(inputCols=[\"X2\"], outputCol=\"features\")\n",
    "df4_features = assembler.transform(df4)\n"
   ]
  },
  {
   "cell_type": "code",
   "execution_count": 14,
   "id": "86a11f3c",
   "metadata": {
    "execution": {
     "iopub.execute_input": "2024-07-25T20:08:24.420122Z",
     "iopub.status.busy": "2024-07-25T20:08:24.419702Z",
     "iopub.status.idle": "2024-07-25T20:08:26.278979Z",
     "shell.execute_reply": "2024-07-25T20:08:26.277808Z"
    },
    "papermill": {
     "duration": 1.87899,
     "end_time": "2024-07-25T20:08:26.282764",
     "exception": false,
     "start_time": "2024-07-25T20:08:24.403774",
     "status": "completed"
    },
    "tags": []
   },
   "outputs": [
    {
     "name": "stderr",
     "output_type": "stream",
     "text": [
      "24/07/25 20:08:25 WARN Instrumentation: [389170f7] regParam is zero, which might cause numerical instability and overfitting.\n",
      "24/07/25 20:08:25 WARN InstanceBuilder: Failed to load implementation from:dev.ludovic.netlib.blas.JNIBLAS\n",
      "24/07/25 20:08:25 WARN InstanceBuilder: Failed to load implementation from:dev.ludovic.netlib.lapack.JNILAPACK\n"
     ]
    }
   ],
   "source": [
    "# Linear Regression Model\n",
    "lr = LinearRegression(labelCol=\"X8\", featuresCol=\"features\")\n",
    "lr_model = lr.fit(df4_features)\n",
    "lr_predictions = lr_model.transform(df4_features)\n"
   ]
  },
  {
   "cell_type": "code",
   "execution_count": 15,
   "id": "35b8e4ca",
   "metadata": {
    "execution": {
     "iopub.execute_input": "2024-07-25T20:08:26.327859Z",
     "iopub.status.busy": "2024-07-25T20:08:26.326977Z",
     "iopub.status.idle": "2024-07-25T20:08:26.567154Z",
     "shell.execute_reply": "2024-07-25T20:08:26.565970Z"
    },
    "papermill": {
     "duration": 0.266065,
     "end_time": "2024-07-25T20:08:26.570165",
     "exception": false,
     "start_time": "2024-07-25T20:08:26.304100",
     "status": "completed"
    },
    "tags": []
   },
   "outputs": [
    {
     "name": "stdout",
     "output_type": "stream",
     "text": [
      "Linear Regression RMSE: 5.608600191393089\n",
      "Linear Regression R^2: 0.6192442167740035\n"
     ]
    }
   ],
   "source": [
    "# Performance Evaluation\n",
    "evaluator = RegressionEvaluator(labelCol=\"X8\", predictionCol=\"prediction\", metricName=\"rmse\")\n",
    "lr_rmse = evaluator.evaluate(lr_predictions)\n",
    "lr_r2 = lr_model.summary.r2\n",
    "\n",
    "print(f\"Linear Regression RMSE: {lr_rmse}\")\n",
    "print(f\"Linear Regression R^2: {lr_r2}\")"
   ]
  },
  {
   "cell_type": "markdown",
   "id": "921075e7",
   "metadata": {
    "papermill": {
     "duration": 0.021919,
     "end_time": "2024-07-25T20:08:26.613544",
     "exception": false,
     "start_time": "2024-07-25T20:08:26.591625",
     "status": "completed"
    },
    "tags": []
   },
   "source": [
    "**6. Build a Lasso regression model to predict the ‘X8’ column using all other columns as predictors and evaluate its performance**"
   ]
  },
  {
   "cell_type": "code",
   "execution_count": 16,
   "id": "da7abac6",
   "metadata": {
    "execution": {
     "iopub.execute_input": "2024-07-25T20:08:26.660223Z",
     "iopub.status.busy": "2024-07-25T20:08:26.659705Z",
     "iopub.status.idle": "2024-07-25T20:08:26.709276Z",
     "shell.execute_reply": "2024-07-25T20:08:26.708012Z"
    },
    "papermill": {
     "duration": 0.076313,
     "end_time": "2024-07-25T20:08:26.712430",
     "exception": false,
     "start_time": "2024-07-25T20:08:26.636117",
     "status": "completed"
    },
    "tags": []
   },
   "outputs": [],
   "source": [
    "# Prepare the data for modeling\n",
    "feature_columns = [col for col in df4.columns if col != \"X8\"]\n",
    "assembler = VectorAssembler(inputCols=feature_columns, outputCol=\"features\")\n",
    "df4_features = assembler.transform(df4)"
   ]
  },
  {
   "cell_type": "code",
   "execution_count": 17,
   "id": "e5c93ed4",
   "metadata": {
    "execution": {
     "iopub.execute_input": "2024-07-25T20:08:26.754380Z",
     "iopub.status.busy": "2024-07-25T20:08:26.754011Z",
     "iopub.status.idle": "2024-07-25T20:08:30.034862Z",
     "shell.execute_reply": "2024-07-25T20:08:30.033681Z"
    },
    "papermill": {
     "duration": 3.304951,
     "end_time": "2024-07-25T20:08:30.038809",
     "exception": false,
     "start_time": "2024-07-25T20:08:26.733858",
     "status": "completed"
    },
    "tags": []
   },
   "outputs": [],
   "source": [
    "# Lasso Regression Model (using ElasticNet with alpha=1)\n",
    "lasso = LinearRegression(labelCol=\"X8\", featuresCol=\"features\", regParam=0.1, elasticNetParam=1.0)\n",
    "lasso_model = lasso.fit(df4_features)\n",
    "lasso_predictions = lasso_model.transform(df4_features)\n"
   ]
  },
  {
   "cell_type": "code",
   "execution_count": 18,
   "id": "0c8d5f4b",
   "metadata": {
    "execution": {
     "iopub.execute_input": "2024-07-25T20:08:30.083831Z",
     "iopub.status.busy": "2024-07-25T20:08:30.083375Z",
     "iopub.status.idle": "2024-07-25T20:08:30.269448Z",
     "shell.execute_reply": "2024-07-25T20:08:30.268417Z"
    },
    "papermill": {
     "duration": 0.211407,
     "end_time": "2024-07-25T20:08:30.271998",
     "exception": false,
     "start_time": "2024-07-25T20:08:30.060591",
     "status": "completed"
    },
    "tags": []
   },
   "outputs": [
    {
     "name": "stdout",
     "output_type": "stream",
     "text": [
      "Lasso Regression RMSE: 2.9285969481850747\n",
      "Lasso Regression R^2: 0.8961858017010297\n"
     ]
    }
   ],
   "source": [
    "# Performance Evaluation\n",
    "evaluator = RegressionEvaluator(labelCol=\"X8\", predictionCol=\"prediction\", metricName=\"rmse\")\n",
    "lasso_rmse = evaluator.evaluate(lasso_predictions)\n",
    "lasso_r2 = lasso_model.summary.r2\n",
    "\n",
    "print(f\"Lasso Regression RMSE: {lasso_rmse}\")\n",
    "print(f\"Lasso Regression R^2: {lasso_r2}\")"
   ]
  },
  {
   "cell_type": "code",
   "execution_count": null,
   "id": "49e6add8",
   "metadata": {
    "papermill": {
     "duration": 0.014144,
     "end_time": "2024-07-25T20:08:30.300619",
     "exception": false,
     "start_time": "2024-07-25T20:08:30.286475",
     "status": "completed"
    },
    "tags": []
   },
   "outputs": [],
   "source": []
  }
 ],
 "metadata": {
  "kaggle": {
   "accelerator": "none",
   "dataSources": [
    {
     "datasetId": 5446277,
     "sourceId": 9035157,
     "sourceType": "datasetVersion"
    }
   ],
   "dockerImageVersionId": 30746,
   "isGpuEnabled": false,
   "isInternetEnabled": true,
   "language": "python",
   "sourceType": "notebook"
  },
  "kernelspec": {
   "display_name": "Python 3",
   "language": "python",
   "name": "python3"
  },
  "language_info": {
   "codemirror_mode": {
    "name": "ipython",
    "version": 3
   },
   "file_extension": ".py",
   "mimetype": "text/x-python",
   "name": "python",
   "nbconvert_exporter": "python",
   "pygments_lexer": "ipython3",
   "version": "3.10.13"
  },
  "papermill": {
   "default_parameters": {},
   "duration": 77.8456,
   "end_time": "2024-07-25T20:08:32.935252",
   "environment_variables": {},
   "exception": null,
   "input_path": "__notebook__.ipynb",
   "output_path": "__notebook__.ipynb",
   "parameters": {},
   "start_time": "2024-07-25T20:07:15.089652",
   "version": "2.5.0"
  }
 },
 "nbformat": 4,
 "nbformat_minor": 5
}
